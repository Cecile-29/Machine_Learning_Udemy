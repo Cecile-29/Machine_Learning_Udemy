{
 "cells": [
  {
   "cell_type": "code",
   "execution_count": 22,
   "metadata": {},
   "outputs": [],
   "source": [
    "################### Evaluer la performance du modèle ####################\n"
   ]
  },
  {
   "cell_type": "code",
   "execution_count": 23,
   "metadata": {},
   "outputs": [
    {
     "name": "stdout",
     "output_type": "stream",
     "text": [
      "34.4\n",
      "90.4\n",
      "173.0\n"
     ]
    }
   ],
   "source": [
    "''' \n",
    "############## Tester la qualité des prédictions ##################\n",
    "\n",
    "* Séparer le dataframe en 2: \n",
    " - train_df contenant 6000 lignes de paris_listings\n",
    " - test_df contenant le reste\n",
    "* Modifier la fonction predict_price, changer le DataFrame temp_df. Changer le DataFrame paris_listings à train_df, pour que seul le dataset de training soit utilisé.\n",
    "* Utiliser la méthode Series apply pour appliquer la fonction predict_price  sur les valeurs de la colonne 'accommodates' du DataFrame test_df.\n",
    "* Assigner l'objet Series résultant à la colonne 'predicted_price' de test_df.\n",
    "\n",
    "'''\n",
    "################# Fonction chapitre précédent  ########################\n",
    "import numpy as np\n",
    "import pandas as pd\n",
    "pd.options.mode.chained_assignment = None\n",
    "np.random.seed(1)\n",
    "\n",
    "paris_listings = pd.read_csv(\"paris_airbnb.csv\")\n",
    "stripped_commas = paris_listings['price'].str.replace(',', '')\n",
    "stripped_dollars = stripped_commas.str.replace('$', '')\n",
    "paris_listings['price'] = stripped_dollars.astype('float')\n",
    "paris_listings = paris_listings.loc[np.random.permutation(len(paris_listings))]\n",
    "# couper le dataFrame parsi_Listings en deux\n",
    "# slicing du df en 6000 lignes\n",
    "train_df = paris_listings.iloc[0:6000]\n",
    "# slicing  du df paris_listings avec le restant après les 6000 lignes\n",
    "test_df = paris_listings.iloc[6000:]\n",
    "\n",
    "def predict_price(new_listing):\n",
    "    # on va ensuite appliquer la fonction de prédiction sur la première partie du df coupé\n",
    "    # la copie temporaire assignée à temp_df lui correspond aux premières 6000 lignes de paris_listings\n",
    "    temp_df = train_df.copy()\n",
    "    temp_df['distance'] = temp_df['accommodates'].apply(lambda x: np.abs(x - new_listing))\n",
    "    temp_df = temp_df.sort_values('distance')\n",
    "    nearest_neighbors = temp_df.iloc[0:5]['price']\n",
    "    predicted_price = nearest_neighbors.mean()\n",
    "    return (predicted_price)\n",
    "\n",
    "\n",
    "# Prédiction des prix avec la fonction predict_price pour les trois valeurs \n",
    "acc_one = predict_price(1)\n",
    "acc_two = predict_price(2)\n",
    "acc_four = predict_price(4)\n",
    "\n",
    "print(acc_one)\n",
    "print( acc_two)\n",
    "print(acc_four)"
   ]
  },
  {
   "cell_type": "code",
   "execution_count": 24,
   "metadata": {},
   "outputs": [],
   "source": [
    "# Utiliser la méthode Series apply pour appliquer la fonction predict_price qui a été modifiée \n",
    "# sur les valeurs de la colonne 'accommodates' du DataFrame test_df.\n",
    "\n",
    "test_df['predicted_price'] = test_df['accommodates'].apply(lambda x: predict_price(x))"
   ]
  },
  {
   "cell_type": "code",
   "execution_count": 25,
   "metadata": {},
   "outputs": [
    {
     "data": {
      "text/html": [
       "<div>\n",
       "<style scoped>\n",
       "    .dataframe tbody tr th:only-of-type {\n",
       "        vertical-align: middle;\n",
       "    }\n",
       "\n",
       "    .dataframe tbody tr th {\n",
       "        vertical-align: top;\n",
       "    }\n",
       "\n",
       "    .dataframe thead th {\n",
       "        text-align: right;\n",
       "    }\n",
       "</style>\n",
       "<table border=\"1\" class=\"dataframe\">\n",
       "  <thead>\n",
       "    <tr style=\"text-align: right;\">\n",
       "      <th></th>\n",
       "      <th>host_response_rate</th>\n",
       "      <th>host_acceptance_rate</th>\n",
       "      <th>host_listings_count</th>\n",
       "      <th>latitude</th>\n",
       "      <th>longitude</th>\n",
       "      <th>city</th>\n",
       "      <th>zipcode</th>\n",
       "      <th>state</th>\n",
       "      <th>accommodates</th>\n",
       "      <th>room_type</th>\n",
       "      <th>bedrooms</th>\n",
       "      <th>bathrooms</th>\n",
       "      <th>beds</th>\n",
       "      <th>price</th>\n",
       "      <th>cleaning_fee</th>\n",
       "      <th>security_deposit</th>\n",
       "      <th>minimum_nights</th>\n",
       "      <th>maximum_nights</th>\n",
       "      <th>number_of_reviews</th>\n",
       "      <th>predicted_price</th>\n",
       "    </tr>\n",
       "  </thead>\n",
       "  <tbody>\n",
       "    <tr>\n",
       "      <th>4465</th>\n",
       "      <td>96%</td>\n",
       "      <td>NaN</td>\n",
       "      <td>28.0</td>\n",
       "      <td>48.89318</td>\n",
       "      <td>2.31884</td>\n",
       "      <td>Paris</td>\n",
       "      <td>75017</td>\n",
       "      <td>Paris province</td>\n",
       "      <td>2</td>\n",
       "      <td>Entire home/apt</td>\n",
       "      <td>0.0</td>\n",
       "      <td>1.0</td>\n",
       "      <td>1.0</td>\n",
       "      <td>63.0</td>\n",
       "      <td>$100.00</td>\n",
       "      <td>$400.00</td>\n",
       "      <td>14</td>\n",
       "      <td>180</td>\n",
       "      <td>61</td>\n",
       "      <td>90.4</td>\n",
       "    </tr>\n",
       "    <tr>\n",
       "      <th>3154</th>\n",
       "      <td>100%</td>\n",
       "      <td>NaN</td>\n",
       "      <td>2.0</td>\n",
       "      <td>48.85114</td>\n",
       "      <td>2.29728</td>\n",
       "      <td>Paris</td>\n",
       "      <td>75015</td>\n",
       "      <td>Île-de-France</td>\n",
       "      <td>5</td>\n",
       "      <td>Entire home/apt</td>\n",
       "      <td>1.0</td>\n",
       "      <td>1.0</td>\n",
       "      <td>4.0</td>\n",
       "      <td>120.0</td>\n",
       "      <td>$50.00</td>\n",
       "      <td>$200.00</td>\n",
       "      <td>1</td>\n",
       "      <td>120</td>\n",
       "      <td>102</td>\n",
       "      <td>176.8</td>\n",
       "    </tr>\n",
       "    <tr>\n",
       "      <th>1969</th>\n",
       "      <td>65%</td>\n",
       "      <td>NaN</td>\n",
       "      <td>93.0</td>\n",
       "      <td>48.85134</td>\n",
       "      <td>2.33359</td>\n",
       "      <td>Paris</td>\n",
       "      <td>75006</td>\n",
       "      <td>Île-de-France</td>\n",
       "      <td>3</td>\n",
       "      <td>Entire home/apt</td>\n",
       "      <td>1.0</td>\n",
       "      <td>1.0</td>\n",
       "      <td>2.0</td>\n",
       "      <td>149.0</td>\n",
       "      <td>$60.00</td>\n",
       "      <td>$600.00</td>\n",
       "      <td>30</td>\n",
       "      <td>1125</td>\n",
       "      <td>5</td>\n",
       "      <td>96.2</td>\n",
       "    </tr>\n",
       "    <tr>\n",
       "      <th>2713</th>\n",
       "      <td>NaN</td>\n",
       "      <td>NaN</td>\n",
       "      <td>1.0</td>\n",
       "      <td>48.87320</td>\n",
       "      <td>2.38649</td>\n",
       "      <td>Paris</td>\n",
       "      <td>75020</td>\n",
       "      <td>Île-de-France</td>\n",
       "      <td>4</td>\n",
       "      <td>Entire home/apt</td>\n",
       "      <td>2.0</td>\n",
       "      <td>1.0</td>\n",
       "      <td>1.0</td>\n",
       "      <td>79.0</td>\n",
       "      <td>$65.00</td>\n",
       "      <td>$299.00</td>\n",
       "      <td>2</td>\n",
       "      <td>1125</td>\n",
       "      <td>5</td>\n",
       "      <td>173.0</td>\n",
       "    </tr>\n",
       "    <tr>\n",
       "      <th>5578</th>\n",
       "      <td>100%</td>\n",
       "      <td>NaN</td>\n",
       "      <td>1.0</td>\n",
       "      <td>48.85691</td>\n",
       "      <td>2.36013</td>\n",
       "      <td>Paris</td>\n",
       "      <td>75004</td>\n",
       "      <td>Île-de-France</td>\n",
       "      <td>2</td>\n",
       "      <td>Entire home/apt</td>\n",
       "      <td>1.0</td>\n",
       "      <td>1.0</td>\n",
       "      <td>1.0</td>\n",
       "      <td>51.0</td>\n",
       "      <td>$25.00</td>\n",
       "      <td>$150.00</td>\n",
       "      <td>4</td>\n",
       "      <td>15</td>\n",
       "      <td>17</td>\n",
       "      <td>90.4</td>\n",
       "    </tr>\n",
       "  </tbody>\n",
       "</table>\n",
       "</div>"
      ],
      "text/plain": [
       "     host_response_rate  host_acceptance_rate  host_listings_count  latitude  \\\n",
       "4465                96%                   NaN                 28.0  48.89318   \n",
       "3154               100%                   NaN                  2.0  48.85114   \n",
       "1969                65%                   NaN                 93.0  48.85134   \n",
       "2713                NaN                   NaN                  1.0  48.87320   \n",
       "5578               100%                   NaN                  1.0  48.85691   \n",
       "\n",
       "      longitude   city zipcode           state  accommodates        room_type  \\\n",
       "4465    2.31884  Paris   75017  Paris province             2  Entire home/apt   \n",
       "3154    2.29728  Paris   75015   Île-de-France             5  Entire home/apt   \n",
       "1969    2.33359  Paris   75006   Île-de-France             3  Entire home/apt   \n",
       "2713    2.38649  Paris   75020   Île-de-France             4  Entire home/apt   \n",
       "5578    2.36013  Paris   75004   Île-de-France             2  Entire home/apt   \n",
       "\n",
       "      bedrooms  bathrooms  beds  price cleaning_fee security_deposit  \\\n",
       "4465       0.0        1.0   1.0   63.0      $100.00          $400.00   \n",
       "3154       1.0        1.0   4.0  120.0       $50.00          $200.00   \n",
       "1969       1.0        1.0   2.0  149.0       $60.00          $600.00   \n",
       "2713       2.0        1.0   1.0   79.0       $65.00          $299.00   \n",
       "5578       1.0        1.0   1.0   51.0       $25.00          $150.00   \n",
       "\n",
       "      minimum_nights  maximum_nights  number_of_reviews  predicted_price  \n",
       "4465              14             180                 61             90.4  \n",
       "3154               1             120                102            176.8  \n",
       "1969              30            1125                  5             96.2  \n",
       "2713               2            1125                  5            173.0  \n",
       "5578               4              15                 17             90.4  "
      ]
     },
     "execution_count": 25,
     "metadata": {},
     "output_type": "execute_result"
    }
   ],
   "source": [
    "test_df.head()"
   ]
  },
  {
   "cell_type": "code",
   "execution_count": 26,
   "metadata": {},
   "outputs": [
    {
     "name": "stdout",
     "output_type": "stream",
     "text": [
      "52.562200000000004\n"
     ]
    },
    {
     "data": {
      "text/plain": [
       "' MAE (Mean Absolute Error) :\\n\\nLa MAE est une mesure couramment utilisée pour évaluer la précision d’un modèle prédictif.\\nElle quantifie l’écart moyen entre les valeurs prédites par le modèle et les valeurs réelles observées dans un échantillon de données.\\nContrairement à la MSE (Mean Squared Error), la MAE ne met pas les erreurs au carré. \\nElle prend simplement la valeur absolue de chaque différence entre la prédiction et l’observation réelle.\\nUne MAE plus basse indique que le modèle a moins d’erreurs de prédiction en moyenne.'"
      ]
     },
     "execution_count": 26,
     "metadata": {},
     "output_type": "execute_result"
    }
   ],
   "source": [
    "############# Les mètriques d'erreur ###########\n",
    "\n",
    "# la colonne predicted_price est ajoutée à test_df et s'observe en concurence avec la col price préexistante\n",
    "# il va falloir comparer la valeur initiale de la colonne price avec la valeur prédite de la colonne predicted_price\n",
    "#  besoin d'une mètrique pour quantifer la qualité des prédictions sur le set de test et s'appelle mètrique d'erreur\n",
    "\n",
    "test_df['error'] = np.absolute(test_df['predicted_price'] - test_df['price'])\n",
    "mae = test_df['error'].mean()\n",
    "# Calcul de l'erreur absolue moyenne (MAE)\n",
    "print(mae)\n",
    "# La MAE mesure l'ampleur moyenne des erreurs dans un ensemble de prédictions :\n",
    "\n",
    "''' MAE (Mean Absolute Error) :\n",
    "\n",
    "La MAE est une mesure couramment utilisée pour évaluer la précision d’un modèle prédictif.\n",
    "Elle quantifie l’écart moyen entre les valeurs prédites par le modèle et les valeurs réelles observées dans un échantillon de données.\n",
    "Contrairement à la MSE (Mean Squared Error), la MAE ne met pas les erreurs au carré. \n",
    "Elle prend simplement la valeur absolue de chaque différence entre la prédiction et l’observation réelle.\n",
    "Une MAE plus basse indique que le modèle a moins d’erreurs de prédiction en moyenne.'''\n"
   ]
  },
  {
   "cell_type": "code",
   "execution_count": 27,
   "metadata": {},
   "outputs": [
    {
     "data": {
      "text/plain": [
       "\"* Calculer la valeur de MSE  entre les colonnes\\xa0'predicted_price'\\xa0et\\xa0'price'.\\n* Assigner le résultat à la variable\\xa0mse.\\n* Afficher le résultat. \""
      ]
     },
     "execution_count": 27,
     "metadata": {},
     "output_type": "execute_result"
    }
   ],
   "source": [
    "################# Erreur quadratique moyenne  #################\n",
    "\n",
    "'''* Calculer la valeur de MSE  entre les colonnes 'predicted_price' et 'price'.\n",
    "* Assigner le résultat à la variable mse.\n",
    "* Afficher le résultat. '''\n"
   ]
  },
  {
   "cell_type": "code",
   "execution_count": 28,
   "metadata": {},
   "outputs": [
    {
     "data": {
      "text/plain": [
       "'Erreur Quadratique Moyenne (MSE) :\\n\\nLa MSE est une mesure couramment utilisée pour évaluer la qualité des prédictions d’un modèle.\\nElle calcule la moyenne des erreurs au carré entre les valeurs prédites et les vraies valeurs.\\nPlus précisément, pour chaque observation, il est soustrait la valeur prédite de la vraie valeur, le résultat est élevé au carré, \\npuis est conservée la moyenne de ces erreurs au carré sur l’ensemble du jeu de données.\\n\\nInterprétation de la MSE :\\n\\nUne MSE plus faible indique que les prédictions du modèle sont plus proches des vraies valeurs.\\nUne MSE plus élevée signifie que le modèle a des erreurs de prédiction plus importantes.\\n\\nApplication au cas :\\n\\nIci est calculé la MSE entre les colonnes ‘price’ (vraies valeurs) et ‘predicted_price’ (valeurs prédites).\\nUne MSE plus basse signifie que le modèle basé sur la colonne ‘bedrooms’ est plus précis dans ses prédictions.'"
      ]
     },
     "execution_count": 28,
     "metadata": {},
     "output_type": "execute_result"
    }
   ],
   "source": [
    "'''Erreur Quadratique Moyenne (MSE) :\n",
    "\n",
    "La MSE est une mesure couramment utilisée pour évaluer la qualité des prédictions d’un modèle.\n",
    "Elle calcule la moyenne des erreurs au carré entre les valeurs prédites et les vraies valeurs.\n",
    "Plus précisément, pour chaque observation, il est soustrait la valeur prédite de la vraie valeur, le résultat est élevé au carré, \n",
    "puis est conservée la moyenne de ces erreurs au carré sur l’ensemble du jeu de données.\n",
    "\n",
    "Interprétation de la MSE :\n",
    "\n",
    "Une MSE plus faible indique que les prédictions du modèle sont plus proches des vraies valeurs.\n",
    "Une MSE plus élevée signifie que le modèle a des erreurs de prédiction plus importantes.\n",
    "\n",
    "Application au cas :\n",
    "\n",
    "Ici est calculé la MSE entre les colonnes ‘price’ (vraies valeurs) et ‘predicted_price’ (valeurs prédites).\n",
    "Une MSE plus basse signifie que le modèle basé sur la colonne ‘bedrooms’ est plus précis dans ses prédictions.'''"
   ]
  },
  {
   "cell_type": "code",
   "execution_count": 39,
   "metadata": {},
   "outputs": [
    {
     "name": "stdout",
     "output_type": "stream",
     "text": [
      "6281.181979999999\n"
     ]
    }
   ],
   "source": [
    "# nouvel objet series test_df['squared_error'] qui contient les erreurs au carré dans une nouvelle col\n",
    "test_df['squared_error'] = (test_df['predicted_price'] - test_df['price'])**2\n",
    "# calcul de l’erreur au carré entre les valeurs prédites (dans la colonne ‘predicted_price’) et les vraies valeurs (dans la colonne ‘price’). \n",
    "# détail : soustraction des valeurs prédites --> les vraies valeurs, puis résultat élèvé au carré\n",
    "mse = test_df['squared_error'].mean()\n",
    "# Pour obtenir la MSE, faire la moyenne des valeurs calculées au carré et stockées dans la colonne ‘squared_error’.\n",
    "print(mse)"
   ]
  },
  {
   "cell_type": "code",
   "execution_count": 30,
   "metadata": {},
   "outputs": [
    {
     "data": {
      "text/plain": [
       "\" \\n* Modifier la fonction suivante\\xa0predict_price\\xa0en utilisant la colonne\\xa0'bedrooms'\\xa0à la place de la colonne\\xa0'accommodates'\\xa0pour faire nos prédictions.\\n* Appliquer la fonction au dataframe\\xa0test_df\\xa0et assigner l'objet Series résultant contenant les valeurs des prix prédits à la colonne\\xa0'predicted_price'\\xa0de\\xa0test_df.\\n* Calculer l'erreur au carré entre les colonnes\\xa0'price'\\xa0et\\xa0'predicted_price'\\xa0de\\xa0test_df\\xa0et assigner l'objet Series résultant à la colonne\\xa0'squared_error' de\\xa0test_df.\\n* Calculer la moyenne de la colonne\\xa0'squared_error'\\xa0de\\xa0test_df\\xa0et assigner à la variable\\xa0mse.\\n* Afficher la valeur de MSE.\""
      ]
     },
     "execution_count": 30,
     "metadata": {},
     "output_type": "execute_result"
    }
   ],
   "source": [
    "################ Entrainer un autre modèle ######################\n",
    "''' \n",
    "* Modifier la fonction suivante predict_price en utilisant la colonne 'bedrooms' à la place de la colonne 'accommodates' pour faire nos prédictions.\n",
    "* Appliquer la fonction au dataframe test_df et assigner l'objet Series résultant contenant les valeurs des prix prédits à la colonne 'predicted_price' de test_df.\n",
    "* Calculer l'erreur au carré entre les colonnes 'price' et 'predicted_price' de test_df et assigner l'objet Series résultant à la colonne 'squared_error' de test_df.\n",
    "* Calculer la moyenne de la colonne 'squared_error' de test_df et assigner à la variable mse.\n",
    "* Afficher la valeur de MSE.'''\n"
   ]
  },
  {
   "cell_type": "code",
   "execution_count": 31,
   "metadata": {},
   "outputs": [
    {
     "name": "stdout",
     "output_type": "stream",
     "text": [
      "6281.181979999999\n"
     ]
    }
   ],
   "source": [
    "# Création d'un modèle de comparaison pour entraîner et tester le modèle scinder de df de référence paris_listings\n",
    "train_df = paris_listings.iloc[0:6000]\n",
    "test_df = paris_listings.iloc[6000:]\n",
    "\n",
    "def predict_price(new_listing):\n",
    "    # Copie du DataFrame d'entraînement pour éviter de modifier les données originales\n",
    "    temp_df = train_df.copy()\n",
    "    # Calcul de la différence absolue entre le nombre de chambres dans chaque observation et la valeur 'new_listing'\n",
    "    temp_df['distance'] = temp_df['bedrooms'].apply(lambda x: np.abs(x - new_listing))\n",
    "    # Tri du DataFrame en fonction de la colonne 'distance'\n",
    "    temp_df = temp_df.sort_values('distance')\n",
    "    # Sélection des 5 voisins les plus proches et extraction de leurs prix\n",
    "    nearest_neighbors_prices = temp_df.iloc[0:5]['price']\n",
    "    # Calcul de la moyenne de ces prix pour obtenir la valeur prédite\n",
    "    predicted_price = nearest_neighbors_prices.mean()\n",
    "    return predicted_price\n",
    "\n",
    "# Application de la fonction 'predict_price' à chaque valeur de la colonne 'bedrooms' dans le DataFrame de test\n",
    "test_df['predicted_price'] = test_df['bedrooms'].apply(lambda x: predict_price(x))\n",
    "# Calcul de l'erreur au carré entre les valeurs prédites ('predicted_price') et les vraies valeurs ('price')\n",
    "test_df['squared_error'] = (test_df['predicted_price'] - test_df['price'])**2\n",
    "# Calcul de la MSE en prenant la moyenne des erreurs au carré\n",
    "mse = test_df['squared_error'].mean()\n",
    "print(mse)\n"
   ]
  },
  {
   "cell_type": "code",
   "execution_count": 32,
   "metadata": {},
   "outputs": [
    {
     "data": {
      "text/plain": [
       "\"\\n* Calculer la valeur RMSE du modèle entrainé en utilisant la colonne\\xa0'bedrooms'.\\n* Assigner le résultat à la variable\\xa0rmse.\\n* Afficher le résultat\""
      ]
     },
     "execution_count": 32,
     "metadata": {},
     "output_type": "execute_result"
    }
   ],
   "source": [
    "#################### Racine carrée de l'erreur quadratique moyenne ####################\n",
    "\n",
    "'''\n",
    "* Calculer la valeur RMSE du modèle entrainé en utilisant la colonne 'bedrooms'.\n",
    "* Assigner le résultat à la variable rmse.\n",
    "* Afficher le résultat'''\n"
   ]
  },
  {
   "cell_type": "code",
   "execution_count": 33,
   "metadata": {},
   "outputs": [
    {
     "name": "stdout",
     "output_type": "stream",
     "text": [
      "79.25390829479642\n"
     ]
    }
   ],
   "source": [
    "def predict_price(new_listing):\n",
    "    temp_df = train_df.copy()\n",
    "    temp_df['distance'] = temp_df['bedrooms'].apply(lambda x: np.abs(x - new_listing))\n",
    "    temp_df = temp_df.sort_values('distance')\n",
    "    nearest_neighbors_prices = temp_df.iloc[0:5]['price']\n",
    "    predicted_price = nearest_neighbors_prices.mean()\n",
    "    return(predicted_price)\n",
    "\n",
    "test_df['predicted_price'] = test_df['bedrooms'].apply(lambda x: predict_price(x))\n",
    "test_df['squared_error'] = (test_df['predicted_price'] - test_df['price'])**(2)\n",
    "mse = test_df['squared_error'].mean()\n",
    "\n",
    "rmse = mse ** (1/2)\n",
    "print(rmse)"
   ]
  },
  {
   "cell_type": "code",
   "execution_count": 34,
   "metadata": {},
   "outputs": [],
   "source": [
    "############### Comparer l'erreur moyenne absolue et la racine carrée de l'erreur quadratique moyenne ################\n",
    "'''\n",
    "* Calculer MAE pour errors_one et l'assigner à la variable mae_one.\n",
    "* Calculer RMSE pour errors_one et l'assigner à la variable rmse_one.\n",
    "* Calculer MAE pour errors_two et l'assigner à mae_two.\n",
    "* Calculer RMSE errors_two et l'assigner à rmse_two. '''\n",
    "\n",
    "# objets Series créés pour calculer les métriques d’erreur (MAE et RMSE) à partir des valeurs d’erreurs fournies\n",
    "# pour exemple ces objets Series permettent de calculer et de comparer ces métriques d’erreur pour évaluer la performance du modèle\n",
    "errors_one = pd.Series([5, 10, 5, 10, 5, 10, 5, 10, 5, 10, 5, 10, 5, 10, 5, 10, 5, 10])\n",
    "errors_two = pd.Series([5, 10, 5, 10, 5, 10, 5, 10, 5, 10, 5, 10, 5, 10, 5, 10, 5, 1000])"
   ]
  },
  {
   "cell_type": "code",
   "execution_count": 35,
   "metadata": {},
   "outputs": [],
   "source": [
    "# La MAE est calculée en prenant la somme des erreurs absolues (valeurs absolues des différences entre les prédictions et les vraies valeurs) \n",
    "# et en la divisant par le nombre total d’observations.\n",
    "mae_one = errors_one.sum()/len(errors_one)\n",
    "#  La valeur RMSE est calculée en prenant la racine carrée de la moyenne des erreurs au carré (valeurs des différences entre les prédictions et les vraies valeurs élevées au carré).\n",
    "rmse_one = np.sqrt((errors_one**2).sum()/len(errors_one))"
   ]
  },
  {
   "cell_type": "code",
   "execution_count": 36,
   "metadata": {},
   "outputs": [],
   "source": [
    "# De même, la MAE est calculée pour le deuxième ensemble d’erreurs.\n",
    "mae_two = errors_two.sum()/len(errors_two)\n",
    "# RMSE aussi calculé pour errors_two.\n",
    "rmse_two = np.sqrt((errors_two**2).sum()/len(errors_two))"
   ]
  },
  {
   "cell_type": "code",
   "execution_count": 37,
   "metadata": {},
   "outputs": [
    {
     "name": "stdout",
     "output_type": "stream",
     "text": [
      "7.5\n",
      "7.905694150420948\n"
     ]
    }
   ],
   "source": [
    "print(mae_one)\n",
    "print(rmse_one)"
   ]
  },
  {
   "cell_type": "code",
   "execution_count": 38,
   "metadata": {},
   "outputs": [
    {
     "name": "stdout",
     "output_type": "stream",
     "text": [
      "62.5\n",
      "235.82302686548658\n"
     ]
    }
   ],
   "source": [
    "print(mae_two)\n",
    "print(rmse_two)"
   ]
  },
  {
   "cell_type": "code",
   "execution_count": null,
   "metadata": {},
   "outputs": [],
   "source": [
    "''' Comparer la MAE (Mean Absolute Error) et le RMSE (Root Mean Squared Error) \n",
    "est essentiel pour évaluer la performance d’un modèle de régression. \n",
    "CONCLUSION :\n",
    "MAE :\n",
    "Mesure l’ampleur moyenne des erreurs, sans tenir compte de leur direction.\n",
    "Calculée comme la moyenne des différences absolues entre valeurs prédites et réelles.\n",
    "Une MAE plus basse indique une meilleure précision du modèle.\n",
    "\n",
    "RMSE :\n",
    "Similaire à la MAE, mais met davantage l’accent sur les erreurs importantes.\n",
    "Calculé comme la racine carrée de la moyenne des erreurs au carré.\n",
    "Plus sensible aux valeurs aberrantes.\n",
    "\n",
    "Choisir la métrique dépend de la nature des données et de l’objectif du modèle. \n",
    "Si des valeurs extrêmes sont présentes, le RMSE peut être plus approprié. '''"
   ]
  }
 ],
 "metadata": {
  "kernelspec": {
   "display_name": "base",
   "language": "python",
   "name": "python3"
  },
  "language_info": {
   "codemirror_mode": {
    "name": "ipython",
    "version": 3
   },
   "file_extension": ".py",
   "mimetype": "text/x-python",
   "name": "python",
   "nbconvert_exporter": "python",
   "pygments_lexer": "ipython3",
   "version": "3.12.4"
  }
 },
 "nbformat": 4,
 "nbformat_minor": 2
}

{
 "cells": [
  {
   "cell_type": "code",
   "execution_count": 37,
   "metadata": {},
   "outputs": [],
   "source": [
    "###########################     Introduction aux plus proches voisins # k nearest neighbors KNN       #####################\n",
    "\n",
    "# base de travail dataset de airbNB_paris\n",
    "# objectif : trouver les plus proches annonces d'appartement à Paris pour déterminer le prix de l'annonce \n",
    "# fixer le prix du marché de la location à mettre en ligne selon l'optimisation des données par l'algorithme KNN\n"
   ]
  },
  {
   "cell_type": "code",
   "execution_count": 38,
   "metadata": {},
   "outputs": [],
   "source": [
    "import pandas as pd\n",
    "import numpy as np\n",
    "import matplotlib.pyplot as plt\n",
    "import seaborn as sns"
   ]
  },
  {
   "cell_type": "code",
   "execution_count": 39,
   "metadata": {},
   "outputs": [
    {
     "data": {
      "text/plain": [
       "host_response_rate                 100%\n",
       "host_acceptance_rate                NaN\n",
       "host_listings_count                 1.0\n",
       "latitude                       48.83349\n",
       "longitude                       2.31852\n",
       "city                              Paris\n",
       "zipcode                           75014\n",
       "state                     Île-de-France\n",
       "accommodates                          2\n",
       "room_type               Entire home/apt\n",
       "bedrooms                            0.0\n",
       "bathrooms                           1.0\n",
       "beds                                0.0\n",
       "price                            $75.00\n",
       "cleaning_fee                     $50.00\n",
       "security_deposit                  $0.00\n",
       "minimum_nights                        3\n",
       "maximum_nights                       15\n",
       "number_of_reviews                     8\n",
       "Name: 0, dtype: object"
      ]
     },
     "execution_count": 39,
     "metadata": {},
     "output_type": "execute_result"
    }
   ],
   "source": [
    "# lire le jeu de données avec pandas.read_csv dans une variable paris_listings\n",
    "\n",
    "paris_listings = pd.read_csv(\"paris_airbnb.csv\")\n",
    "paris_listings.iloc[0]"
   ]
  },
  {
   "cell_type": "code",
   "execution_count": 40,
   "metadata": {},
   "outputs": [],
   "source": [
    "# stratégie trouver des logements similaires, calculer le prix moyens de ces logements en définir le prix du futur logement en location\n",
    "\n",
    "# distance euclidienne pour métrique de similarité \n",
    "\n",
    "# distance euclidienne = valeur absolue de (q1 - p1)\n",
    "# les q1 jusqu'à qn cela représente les valeurs de la caratéristiques pour une observation\n",
    "# et les valeurs p1 jusqu'à pn cela représente les valeurs de la caratéristiques pour l'autre observation\n",
    "# observation est un logement et une caractéristique peut être une colonne de notre dataframe comme 'beds' ou 'bathrooms'\n",
    "# numpy.abs(q1-p1)\n"
   ]
  },
  {
   "cell_type": "code",
   "execution_count": 41,
   "metadata": {},
   "outputs": [],
   "source": [
    "# numpy.abs(q1-q2)"
   ]
  },
  {
   "cell_type": "code",
   "execution_count": 42,
   "metadata": {},
   "outputs": [
    {
     "data": {
      "text/plain": [
       "1"
      ]
     },
     "execution_count": 42,
     "metadata": {},
     "output_type": "execute_result"
    }
   ],
   "source": [
    "# variable qui contient les valeurs de la colonne 'accommodates' le logement peut accueillir 3 personnes\n",
    "our_acc_value = 3\n",
    "# variable qui contient les valeurs de la colonne 'accommodates' pour le premier logement du dataset index 0\n",
    "first_living_space = paris_listings.iloc[0]['accommodates']\n",
    "# pour calculer la dist euclidienne avec la méthode de numpy \n",
    "# --> la valeur absolue de ( la première valeur de 'accomodates' dans le data set - le nb de personnes que peut accueillir le logement à mettre en locaton ) \n",
    "first_distance = np.abs(first_living_space - our_acc_value)\n",
    "first_distance"
   ]
  },
  {
   "cell_type": "code",
   "execution_count": 43,
   "metadata": {},
   "outputs": [
    {
     "data": {
      "text/plain": [
       "0     6\n",
       "1     6\n",
       "2     4\n",
       "3     5\n",
       "4     6\n",
       "5     6\n",
       "6     4\n",
       "7     5\n",
       "8     4\n",
       "9     6\n",
       "10    2\n",
       "11    6\n",
       "12    6\n",
       "Name: accommodates, dtype: int64"
      ]
     },
     "execution_count": 43,
     "metadata": {},
     "output_type": "execute_result"
    }
   ],
   "source": [
    "# comprarer la distance entre un logement à 8 capacités d'accueil aux autres logement du dataframe col 'accomodates'\n",
    "# coder les résultats par odre croissant\n",
    "\n",
    "our_acc_value = 8\n",
    "livings_spaces = paris_listings['accommodates']\n",
    "distances = np.abs(livings_spaces - our_acc_value) \n",
    "\n",
    "list_distances = pd.Series(distances)\n",
    "\n",
    "list_distances.head(13)"
   ]
  },
  {
   "cell_type": "code",
   "execution_count": 44,
   "metadata": {},
   "outputs": [
    {
     "name": "stdout",
     "output_type": "stream",
     "text": [
      "accommodates\n",
      "1     5665\n",
      "0      878\n",
      "2      726\n",
      "3      508\n",
      "4       88\n",
      "5       82\n",
      "6       18\n",
      "7       14\n",
      "9        8\n",
      "11       4\n",
      "8        4\n",
      "13       3\n",
      "10       2\n",
      "Name: count, dtype: int64\n"
     ]
    }
   ],
   "source": [
    "# comprarer la distance entre un logement à 8 capacités d'accueil aux autres logement du dataframe col 'accomodates'\n",
    "# coder les résultats par odre croissant\n",
    "\n",
    "our_acc_value = 3\n",
    "livings_spaces = paris_listings['accommodates']\n",
    "distances = np.abs(livings_spaces - our_acc_value) \n",
    "\n",
    "list_distances = pd.Series(distances)\n",
    "# Afficher le décompte des valeurs de distance\n",
    "distance_counts = list_distances.value_counts()\n",
    "print(distance_counts)"
   ]
  },
  {
   "cell_type": "code",
   "execution_count": 45,
   "metadata": {},
   "outputs": [
    {
     "name": "stdout",
     "output_type": "stream",
     "text": [
      "distance\n",
      "1     5665\n",
      "0      878\n",
      "2      726\n",
      "3      508\n",
      "4       88\n",
      "5       82\n",
      "6       18\n",
      "7       14\n",
      "9        8\n",
      "11       4\n",
      "8        4\n",
      "13       3\n",
      "10       2\n",
      "Name: count, dtype: int64\n"
     ]
    }
   ],
   "source": [
    "''' Calculer la distance pour toutes les observations\n",
    "\n",
    "* Calculer la distance entre chaque valeur de la colonne 'accommodates' de paris_listings et la valeur 3 (qui est le nombre de personnes que peut accueillir notre logement):\n",
    " - Utiliser la méthode **apply** pour calculer la valeur absolue entre chaque valeur de 'accommodates' et 3 et retourner un nouvel objet Series contenant les valeurs de distance.\n",
    "* Assigner les valeurs de distance à la colonne 'distance' du dataframe.\n",
    "* Utiliser la méthode Series value_counts() et afficher le décompte de chaque valeur unique de la colonne 'distance'.'''\n",
    "\n",
    "########## Correction instructeur   ########\n",
    "\n",
    "# écrire une fonction lambda sur la variable x, pour éviter d'écrire une fonction séparée \n",
    "# cette fonction va retourner un objet series où la valeur vaut 2 de plus que la valeur d'orignine de la col 'accomodates'\n",
    "# exemple : df['accomodates'].apply(lambda x: x + 2)\n",
    "\n",
    "new_listing = 3\n",
    "paris_listings['distance'] = paris_listings['accommodates'].apply(lambda x: np.abs(x - new_listing))\n",
    "# ft lambda --> valeur absolue de chaque logement x (ici col 'accomodates' - notre logement valeur de 3 ) une nouvelle col est crée\n",
    "print(paris_listings['distance'].value_counts())"
   ]
  },
  {
   "cell_type": "code",
   "execution_count": 46,
   "metadata": {},
   "outputs": [
    {
     "data": {
      "text/plain": [
       "3       3\n",
       "7       3\n",
       "13      3\n",
       "14      3\n",
       "18      3\n",
       "       ..\n",
       "7907    3\n",
       "7938    3\n",
       "7948    3\n",
       "7958    3\n",
       "7989    3\n",
       "Name: accommodates, Length: 878, dtype: int64"
      ]
     },
     "execution_count": 46,
     "metadata": {},
     "output_type": "execute_result"
    }
   ],
   "source": [
    "## Randomiser et trier\n",
    "\n",
    "paris_listings[paris_listings['distance'] == 0]['accommodates']\n",
    "# en cherchant les logements similaires à un accueil de 3 personnes, chercher un échantillon aléatoire diff de ce résultat"
   ]
  },
  {
   "cell_type": "code",
   "execution_count": 47,
   "metadata": {},
   "outputs": [
    {
     "data": {
      "text/html": [
       "<div>\n",
       "<style scoped>\n",
       "    .dataframe tbody tr th:only-of-type {\n",
       "        vertical-align: middle;\n",
       "    }\n",
       "\n",
       "    .dataframe tbody tr th {\n",
       "        vertical-align: top;\n",
       "    }\n",
       "\n",
       "    .dataframe thead th {\n",
       "        text-align: right;\n",
       "    }\n",
       "</style>\n",
       "<table border=\"1\" class=\"dataframe\">\n",
       "  <thead>\n",
       "    <tr style=\"text-align: right;\">\n",
       "      <th></th>\n",
       "      <th>host_response_rate</th>\n",
       "      <th>host_acceptance_rate</th>\n",
       "      <th>host_listings_count</th>\n",
       "      <th>latitude</th>\n",
       "      <th>longitude</th>\n",
       "      <th>city</th>\n",
       "      <th>zipcode</th>\n",
       "      <th>state</th>\n",
       "      <th>accommodates</th>\n",
       "      <th>room_type</th>\n",
       "      <th>bedrooms</th>\n",
       "      <th>bathrooms</th>\n",
       "      <th>beds</th>\n",
       "      <th>price</th>\n",
       "      <th>cleaning_fee</th>\n",
       "      <th>security_deposit</th>\n",
       "      <th>minimum_nights</th>\n",
       "      <th>maximum_nights</th>\n",
       "      <th>number_of_reviews</th>\n",
       "      <th>distance</th>\n",
       "    </tr>\n",
       "  </thead>\n",
       "  <tbody>\n",
       "    <tr>\n",
       "      <th>0</th>\n",
       "      <td>100%</td>\n",
       "      <td>NaN</td>\n",
       "      <td>1.0</td>\n",
       "      <td>48.83349</td>\n",
       "      <td>2.31852</td>\n",
       "      <td>Paris</td>\n",
       "      <td>75014</td>\n",
       "      <td>Île-de-France</td>\n",
       "      <td>2</td>\n",
       "      <td>Entire home/apt</td>\n",
       "      <td>0.0</td>\n",
       "      <td>1.0</td>\n",
       "      <td>0.0</td>\n",
       "      <td>$75.00</td>\n",
       "      <td>$50.00</td>\n",
       "      <td>$0.00</td>\n",
       "      <td>3</td>\n",
       "      <td>15</td>\n",
       "      <td>8</td>\n",
       "      <td>1</td>\n",
       "    </tr>\n",
       "    <tr>\n",
       "      <th>1</th>\n",
       "      <td>100%</td>\n",
       "      <td>NaN</td>\n",
       "      <td>1.0</td>\n",
       "      <td>48.85100</td>\n",
       "      <td>2.35869</td>\n",
       "      <td>Paris</td>\n",
       "      <td>75004</td>\n",
       "      <td>Ile-de-France</td>\n",
       "      <td>2</td>\n",
       "      <td>Entire home/apt</td>\n",
       "      <td>0.0</td>\n",
       "      <td>1.0</td>\n",
       "      <td>1.0</td>\n",
       "      <td>$115.00</td>\n",
       "      <td>$36.00</td>\n",
       "      <td>$0.00</td>\n",
       "      <td>1</td>\n",
       "      <td>90</td>\n",
       "      <td>173</td>\n",
       "      <td>1</td>\n",
       "    </tr>\n",
       "  </tbody>\n",
       "</table>\n",
       "</div>"
      ],
      "text/plain": [
       "  host_response_rate  host_acceptance_rate  host_listings_count  latitude  \\\n",
       "0               100%                   NaN                  1.0  48.83349   \n",
       "1               100%                   NaN                  1.0  48.85100   \n",
       "\n",
       "   longitude   city zipcode          state  accommodates        room_type  \\\n",
       "0    2.31852  Paris   75014  Île-de-France             2  Entire home/apt   \n",
       "1    2.35869  Paris   75004  Ile-de-France             2  Entire home/apt   \n",
       "\n",
       "   bedrooms  bathrooms  beds    price cleaning_fee security_deposit  \\\n",
       "0       0.0        1.0   0.0   $75.00       $50.00            $0.00   \n",
       "1       0.0        1.0   1.0  $115.00       $36.00            $0.00   \n",
       "\n",
       "   minimum_nights  maximum_nights  number_of_reviews  distance  \n",
       "0               3              15                  8         1  \n",
       "1               1              90                173         1  "
      ]
     },
     "execution_count": 47,
     "metadata": {},
     "output_type": "execute_result"
    }
   ],
   "source": [
    "paris_listings.head(2)"
   ]
  },
  {
   "cell_type": "code",
   "execution_count": 48,
   "metadata": {},
   "outputs": [
    {
     "data": {
      "text/plain": [
       "1956     $80.00\n",
       "3735     $67.00\n",
       "6944     $36.00\n",
       "2094    $120.00\n",
       "2968     $60.00\n",
       "845     $200.00\n",
       "6083     $95.00\n",
       "5970     $95.00\n",
       "2992     $76.00\n",
       "3179    $100.00\n",
       "Name: price, dtype: object"
      ]
     },
     "execution_count": 48,
     "metadata": {},
     "output_type": "execute_result"
    }
   ],
   "source": [
    "''' * On commence par se placer sur le même seed: np.random.seed(1)\n",
    "* Randomiser l'ordre des lignes de paris_listings:\n",
    " - Utiliser la fonction np.random.permutation() pour retourner un tableau NumPy de valeurs d'index mélangés.\n",
    " - Utiliser la méthode sur Dataframe loc[] pour retourner un nouveau DataFrame contenant l'ordre mélangé.\n",
    " - Assigner le nouveau Dataframe de nouveau à paris_listings.\n",
    "* Après avoir randomisé, trier paris_listings sur la colonne 'distance' avec la méthode sort_values().\n",
    "* Afficher les 10 premières valeurs de la colonne 'price'.'''\n",
    "\n",
    "np.random.seed(1)\n",
    "paris_listings = paris_listings.loc[np.random.permutation(len(paris_listings))]\n",
    "paris_listings = paris_listings.sort_values('distance')\n",
    "paris_listings.iloc[0:10]['price']"
   ]
  },
  {
   "cell_type": "code",
   "execution_count": null,
   "metadata": {},
   "outputs": [],
   "source": []
  }
 ],
 "metadata": {
  "kernelspec": {
   "display_name": "base",
   "language": "python",
   "name": "python3"
  },
  "language_info": {
   "codemirror_mode": {
    "name": "ipython",
    "version": 3
   },
   "file_extension": ".py",
   "mimetype": "text/x-python",
   "name": "python",
   "nbconvert_exporter": "python",
   "pygments_lexer": "ipython3",
   "version": "3.12.4"
  }
 },
 "nbformat": 4,
 "nbformat_minor": 2
}

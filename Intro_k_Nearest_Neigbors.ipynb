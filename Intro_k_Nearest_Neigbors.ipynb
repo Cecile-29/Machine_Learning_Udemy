{
 "cells": [
  {
   "cell_type": "code",
   "execution_count": 1,
   "metadata": {},
   "outputs": [],
   "source": [
    "###########################     Introduction aux plus proches voisins # k nearest neighbors KNN       #####################\n",
    "\n",
    "# base de travail dataset de airbNB_paris\n",
    "# objectif : trouver les plus proches annonces d'appartement à Paris pour déterminer le prix de l'annonce \n",
    "# fixer le prix du marché de la location à mettre en ligne selon l'optimisation des données par l'algorithme KNN\n"
   ]
  },
  {
   "cell_type": "code",
   "execution_count": 2,
   "metadata": {},
   "outputs": [],
   "source": [
    "import pandas as pd\n",
    "import numpy as np\n",
    "import matplotlib.pyplot as plt\n",
    "import seaborn as sns"
   ]
  },
  {
   "cell_type": "code",
   "execution_count": 9,
   "metadata": {},
   "outputs": [
    {
     "data": {
      "text/plain": [
       "host_response_rate                 100%\n",
       "host_acceptance_rate                NaN\n",
       "host_listings_count                 1.0\n",
       "latitude                       48.83349\n",
       "longitude                       2.31852\n",
       "city                              Paris\n",
       "zipcode                           75014\n",
       "state                     Île-de-France\n",
       "accommodates                          2\n",
       "room_type               Entire home/apt\n",
       "bedrooms                            0.0\n",
       "bathrooms                           1.0\n",
       "beds                                0.0\n",
       "price                            $75.00\n",
       "cleaning_fee                     $50.00\n",
       "security_deposit                  $0.00\n",
       "minimum_nights                        3\n",
       "maximum_nights                       15\n",
       "number_of_reviews                     8\n",
       "Name: 0, dtype: object"
      ]
     },
     "execution_count": 9,
     "metadata": {},
     "output_type": "execute_result"
    }
   ],
   "source": [
    "# lire le jeu de données avec pandas.read_csv dans une variable paris_listings\n",
    "\n",
    "paris_listings = pd.read_csv(\"paris_airbnb.csv\")\n",
    "paris_listings.iloc[0]"
   ]
  },
  {
   "cell_type": "code",
   "execution_count": null,
   "metadata": {},
   "outputs": [],
   "source": [
    "# stratégie trouver des logements similaires, calculer le prix moyens de ces logements en définir le prix du futur logement en location\n",
    "\n",
    "# distance euclidienne pour métrique de similarité \n"
   ]
  }
 ],
 "metadata": {
  "kernelspec": {
   "display_name": "base",
   "language": "python",
   "name": "python3"
  },
  "language_info": {
   "codemirror_mode": {
    "name": "ipython",
    "version": 3
   },
   "file_extension": ".py",
   "mimetype": "text/x-python",
   "name": "python",
   "nbconvert_exporter": "python",
   "pygments_lexer": "ipython3",
   "version": "3.12.4"
  }
 },
 "nbformat": 4,
 "nbformat_minor": 2
}
